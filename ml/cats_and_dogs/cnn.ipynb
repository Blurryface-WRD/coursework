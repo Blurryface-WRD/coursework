{
 "cells": [
  {
   "cell_type": "code",
   "execution_count": 2,
   "metadata": {},
   "outputs": [],
   "source": [
    "import tensorflow as tf\n",
    "from tensorflow import keras\n",
    "from keras import layers\n",
    "import numpy as np\n",
    "import pandas as pd\n",
    "import matplotlib.pyplot as plt\n",
    "import os"
   ]
  },
  {
   "cell_type": "markdown",
   "metadata": {},
   "source": [
    "Download the Dataset from the link in download.txt first"
   ]
  },
  {
   "cell_type": "code",
   "execution_count": 39,
   "metadata": {},
   "outputs": [
    {
     "data": {
      "text/plain": [
       "['test', 'train']"
      ]
     },
     "execution_count": 39,
     "metadata": {},
     "output_type": "execute_result"
    }
   ],
   "source": [
    "dataset_dir = \"dogs_cats\"\n",
    "train_dir = os.path.join(dataset_dir, \"train\")\n",
    "test_dir = os.path.join(dataset_dir, \"test\")\n",
    "\n",
    "os.listdir(dataset_dir)"
   ]
  },
  {
   "cell_type": "code",
   "execution_count": 41,
   "metadata": {},
   "outputs": [],
   "source": [
    "train_datagen = keras.preprocessing.image.ImageDataGenerator(\n",
    "    rescale=1./255,\n",
    "    shear_range=0.2,\n",
    "    zoom_range=0.2,\n",
    "    horizontal_flip=True\n",
    ")\n",
    "# Only rescale pixel values for validation data\n",
    "validation_datagen = keras.preprocessing.image.ImageDataGenerator(rescale=1./255)"
   ]
  },
  {
   "cell_type": "code",
   "execution_count": 101,
   "metadata": {},
   "outputs": [],
   "source": [
    "batch_size = 32"
   ]
  },
  {
   "cell_type": "code",
   "execution_count": 113,
   "metadata": {},
   "outputs": [
    {
     "name": "stdout",
     "output_type": "stream",
     "text": [
      "Found 557 images belonging to 2 classes.\n",
      "Found 140 images belonging to 2 classes.\n"
     ]
    }
   ],
   "source": [
    "train_generator = train_datagen.flow_from_directory(\n",
    "    train_dir,\n",
    "    target_size=(150, 150),\n",
    "    batch_size=batch_size,\n",
    "    class_mode=\"binary\"\n",
    ")\n",
    "\n",
    "validation_generator = validation_datagen.flow_from_directory(\n",
    "    test_dir,\n",
    "    target_size=(150, 150),\n",
    "    batch_size=batch_size,\n",
    "    class_mode=\"binary\"\n",
    ")"
   ]
  },
  {
   "cell_type": "code",
   "execution_count": 170,
   "metadata": {},
   "outputs": [
    {
     "name": "stdout",
     "output_type": "stream",
     "text": [
      "Model: \"sequential_19\"\n",
      "_________________________________________________________________\n",
      " Layer (type)                Output Shape              Param #   \n",
      "=================================================================\n",
      " conv2d_53 (Conv2D)          (None, 148, 148, 32)      896       \n",
      "                                                                 \n",
      " max_pooling2d_53 (MaxPooli  (None, 74, 74, 32)        0         \n",
      " ng2D)                                                           \n",
      "                                                                 \n",
      " conv2d_54 (Conv2D)          (None, 72, 72, 64)        18496     \n",
      "                                                                 \n",
      " max_pooling2d_54 (MaxPooli  (None, 36, 36, 64)        0         \n",
      " ng2D)                                                           \n",
      "                                                                 \n",
      " conv2d_55 (Conv2D)          (None, 34, 34, 128)       73856     \n",
      "                                                                 \n",
      " max_pooling2d_55 (MaxPooli  (None, 17, 17, 128)       0         \n",
      " ng2D)                                                           \n",
      "                                                                 \n",
      " flatten_16 (Flatten)        (None, 36992)             0         \n",
      "                                                                 \n",
      " dense_32 (Dense)            (None, 256)               9470208   \n",
      "                                                                 \n",
      " dense_33 (Dense)            (None, 1)                 257       \n",
      "                                                                 \n",
      "=================================================================\n",
      "Total params: 9563713 (36.48 MB)\n",
      "Trainable params: 9563713 (36.48 MB)\n",
      "Non-trainable params: 0 (0.00 Byte)\n",
      "_________________________________________________________________\n"
     ]
    }
   ],
   "source": [
    "# Get in probability of each class\n",
    "\n",
    "model = keras.Sequential([\n",
    "    layers.Conv2D(32, (3, 3), activation=\"relu\", input_shape=(150, 150, 3)),\n",
    "    layers.MaxPooling2D((2, 2)),\n",
    "    \n",
    "    layers.Conv2D(64, (3, 3), activation=\"relu\"),\n",
    "    layers.MaxPooling2D((2, 2)),\n",
    "    \n",
    "    layers.Conv2D(128, (3, 3), activation=\"relu\"),\n",
    "    layers.MaxPooling2D((2, 2)),\n",
    "\n",
    "    layers.Flatten(),\n",
    "    layers.Dense(256, activation=\"relu\"),\n",
    "    layers.Dense(1, activation=\"sigmoid\")\n",
    "])\n",
    "\n",
    "model.summary()"
   ]
  },
  {
   "cell_type": "code",
   "execution_count": 171,
   "metadata": {},
   "outputs": [],
   "source": [
    "model.compile(\n",
    "    optimizer=\"adam\",\n",
    "    loss=\"binary_crossentropy\",\n",
    "    metrics=[\"accuracy\"]\n",
    ")"
   ]
  },
  {
   "cell_type": "code",
   "execution_count": 172,
   "metadata": {},
   "outputs": [
    {
     "name": "stdout",
     "output_type": "stream",
     "text": [
      "Epoch 1/30\n",
      "18/18 [==============================] - 17s 910ms/step - loss: 0.8830 - accuracy: 0.4991 - val_loss: 0.6932 - val_accuracy: 0.5000\n",
      "Epoch 2/30\n",
      "18/18 [==============================] - 14s 761ms/step - loss: 0.6947 - accuracy: 0.4883 - val_loss: 0.6924 - val_accuracy: 0.5000\n",
      "Epoch 3/30\n",
      "18/18 [==============================] - 14s 761ms/step - loss: 0.7015 - accuracy: 0.4901 - val_loss: 0.6932 - val_accuracy: 0.5000\n",
      "Epoch 4/30\n",
      "18/18 [==============================] - 13s 734ms/step - loss: 0.6935 - accuracy: 0.4973 - val_loss: 0.6946 - val_accuracy: 0.5286\n",
      "Epoch 5/30\n",
      "18/18 [==============================] - 12s 697ms/step - loss: 0.6819 - accuracy: 0.5835 - val_loss: 0.7466 - val_accuracy: 0.5286\n",
      "Epoch 6/30\n",
      "18/18 [==============================] - 13s 695ms/step - loss: 0.6488 - accuracy: 0.6176 - val_loss: 0.7340 - val_accuracy: 0.5786\n",
      "Epoch 7/30\n",
      "18/18 [==============================] - 13s 697ms/step - loss: 0.6677 - accuracy: 0.6014 - val_loss: 0.6843 - val_accuracy: 0.6286\n",
      "Epoch 8/30\n",
      "18/18 [==============================] - 12s 714ms/step - loss: 0.6305 - accuracy: 0.6517 - val_loss: 0.7151 - val_accuracy: 0.5571\n",
      "Epoch 9/30\n",
      "18/18 [==============================] - 12s 655ms/step - loss: 0.6156 - accuracy: 0.6535 - val_loss: 0.6801 - val_accuracy: 0.5643\n",
      "Epoch 10/30\n",
      "18/18 [==============================] - 13s 735ms/step - loss: 0.5938 - accuracy: 0.6912 - val_loss: 0.6768 - val_accuracy: 0.5714\n",
      "Epoch 11/30\n",
      "18/18 [==============================] - 14s 749ms/step - loss: 0.5779 - accuracy: 0.7002 - val_loss: 0.6878 - val_accuracy: 0.6500\n",
      "Epoch 12/30\n",
      "18/18 [==============================] - 13s 738ms/step - loss: 0.5489 - accuracy: 0.7020 - val_loss: 0.7243 - val_accuracy: 0.6571\n",
      "Epoch 13/30\n",
      "18/18 [==============================] - 13s 690ms/step - loss: 0.5394 - accuracy: 0.7307 - val_loss: 0.8178 - val_accuracy: 0.5857\n",
      "Epoch 14/30\n",
      "18/18 [==============================] - 14s 784ms/step - loss: 0.5928 - accuracy: 0.6697 - val_loss: 0.7095 - val_accuracy: 0.6286\n",
      "Epoch 15/30\n",
      "18/18 [==============================] - 16s 861ms/step - loss: 0.5488 - accuracy: 0.7181 - val_loss: 0.6704 - val_accuracy: 0.6143\n",
      "Epoch 16/30\n",
      "18/18 [==============================] - 16s 864ms/step - loss: 0.5002 - accuracy: 0.7594 - val_loss: 0.7738 - val_accuracy: 0.6143\n",
      "Epoch 17/30\n",
      "18/18 [==============================] - 15s 844ms/step - loss: 0.4786 - accuracy: 0.7738 - val_loss: 0.6765 - val_accuracy: 0.6429\n",
      "Epoch 18/30\n",
      "18/18 [==============================] - 15s 811ms/step - loss: 0.4515 - accuracy: 0.7828 - val_loss: 0.7048 - val_accuracy: 0.6214\n",
      "Epoch 19/30\n",
      "18/18 [==============================] - 16s 873ms/step - loss: 0.4642 - accuracy: 0.7666 - val_loss: 0.7423 - val_accuracy: 0.6714\n",
      "Epoch 20/30\n",
      "18/18 [==============================] - 16s 860ms/step - loss: 0.4582 - accuracy: 0.7810 - val_loss: 0.6641 - val_accuracy: 0.6571\n",
      "Epoch 21/30\n",
      "18/18 [==============================] - 16s 874ms/step - loss: 0.4070 - accuracy: 0.8169 - val_loss: 0.6937 - val_accuracy: 0.6500\n",
      "Epoch 22/30\n",
      "18/18 [==============================] - 16s 881ms/step - loss: 0.4100 - accuracy: 0.8061 - val_loss: 0.9614 - val_accuracy: 0.6214\n",
      "Epoch 23/30\n",
      "18/18 [==============================] - 17s 957ms/step - loss: 0.3922 - accuracy: 0.8151 - val_loss: 0.7365 - val_accuracy: 0.6643\n",
      "Epoch 24/30\n",
      "18/18 [==============================] - 18s 982ms/step - loss: 0.4090 - accuracy: 0.8187 - val_loss: 0.6838 - val_accuracy: 0.6214\n",
      "Epoch 25/30\n",
      "18/18 [==============================] - 19s 1s/step - loss: 0.3489 - accuracy: 0.8600 - val_loss: 0.7015 - val_accuracy: 0.6571\n",
      "Epoch 26/30\n",
      "18/18 [==============================] - 21s 1s/step - loss: 0.3044 - accuracy: 0.8689 - val_loss: 0.8135 - val_accuracy: 0.6429\n",
      "Epoch 27/30\n",
      "18/18 [==============================] - 17s 949ms/step - loss: 0.2968 - accuracy: 0.8761 - val_loss: 0.9278 - val_accuracy: 0.6286\n",
      "Epoch 28/30\n",
      "18/18 [==============================] - 18s 963ms/step - loss: 0.2670 - accuracy: 0.8815 - val_loss: 0.8802 - val_accuracy: 0.6714\n",
      "Epoch 29/30\n",
      "18/18 [==============================] - 13s 709ms/step - loss: 0.2303 - accuracy: 0.9156 - val_loss: 0.9619 - val_accuracy: 0.6714\n",
      "Epoch 30/30\n",
      "18/18 [==============================] - 11s 632ms/step - loss: 0.2407 - accuracy: 0.8923 - val_loss: 0.8851 - val_accuracy: 0.6643\n"
     ]
    },
    {
     "data": {
      "text/plain": [
       "<keras.src.callbacks.History at 0x18810bb52a0>"
      ]
     },
     "execution_count": 172,
     "metadata": {},
     "output_type": "execute_result"
    }
   ],
   "source": [
    "model.fit(\n",
    "    train_generator,\n",
    "    epochs=30,\n",
    "    validation_data=validation_generator,\n",
    "    shuffle=True\n",
    ")"
   ]
  },
  {
   "cell_type": "code",
   "execution_count": 173,
   "metadata": {},
   "outputs": [
    {
     "name": "stdout",
     "output_type": "stream",
     "text": [
      "5/5 - 1s - loss: 0.8851 - accuracy: 0.6643 - 785ms/epoch - 157ms/step\n",
      "Test accuracy: 0.6642857193946838\n",
      "Test loss: 0.8850916028022766\n"
     ]
    }
   ],
   "source": [
    "# Evaluate model\n",
    "\n",
    "test_loss, test_acc = model.evaluate(validation_generator, verbose=2)\n",
    "\n",
    "print(\"Test accuracy:\", test_acc)\n",
    "print(\"Test loss:\", test_loss)"
   ]
  },
  {
   "cell_type": "code",
   "execution_count": 174,
   "metadata": {},
   "outputs": [
    {
     "name": "stderr",
     "output_type": "stream",
     "text": [
      "c:\\Users\\joshi\\AppData\\Local\\Programs\\Python\\Python310\\lib\\site-packages\\keras\\src\\engine\\training.py:3000: UserWarning: You are saving your model as an HDF5 file via `model.save()`. This file format is considered legacy. We recommend using instead the native Keras format, e.g. `model.save('my_model.keras')`.\n",
      "  saving_api.save_model(\n"
     ]
    }
   ],
   "source": [
    "# Save the model\n",
    "\n",
    "model.save(\"dogs_cats1.h5\")"
   ]
  },
  {
   "cell_type": "code",
   "execution_count": 9,
   "metadata": {},
   "outputs": [
    {
     "name": "stdout",
     "output_type": "stream",
     "text": [
      "1/1 [==============================] - 0s 125ms/step\n",
      "[[1.]]\n",
      "This image most likely belongs to dog\n"
     ]
    }
   ],
   "source": [
    "# Load and test the model\n",
    "\n",
    "model = keras.models.load_model(\"dogs_cats.h5\")\n",
    "\n",
    "img = keras.preprocessing.image.load_img(\n",
    "    \"dog.jpg\",\n",
    "    target_size=(150, 150)\n",
    ")\n",
    "\n",
    "img_array = keras.preprocessing.image.img_to_array(img)\n",
    "img_array = tf.expand_dims(img_array, 0)\n",
    "\n",
    "\n",
    "predictions = model.predict(img_array)\n",
    "print(predictions)\n",
    "print(\"This image most likely belongs to {}\"\n",
    "    .format(\"dog\" if predictions[0] == 1 else \"cat\",)\n",
    ")\n"
   ]
  },
  {
   "cell_type": "code",
   "execution_count": null,
   "metadata": {},
   "outputs": [],
   "source": []
  }
 ],
 "metadata": {
  "kernelspec": {
   "display_name": "Python 3 (ipykernel)",
   "language": "python",
   "name": "python3"
  },
  "language_info": {
   "codemirror_mode": {
    "name": "ipython",
    "version": 3
   },
   "file_extension": ".py",
   "mimetype": "text/x-python",
   "name": "python",
   "nbconvert_exporter": "python",
   "pygments_lexer": "ipython3",
   "version": "3.10.8"
  }
 },
 "nbformat": 4,
 "nbformat_minor": 4
}
